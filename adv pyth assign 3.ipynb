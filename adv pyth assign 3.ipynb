{
 "cells": [
  {
   "cell_type": "markdown",
   "id": "432c8bcc",
   "metadata": {},
   "source": [
    "# Adv. Python Assignment-03"
   ]
  },
  {
   "cell_type": "raw",
   "id": "8c76b9d5",
   "metadata": {},
   "source": [
    "Question 1: What is the concept of an abstract superclass?\n",
    "\n",
    "Solution : The class whose properties gets inherited by another class is known as superclass or parent class and the class                which inherits the properties of another class is known as the subclass. A subclass inherits all data and behavior              of parent class. But we can also add more information and behavior to the subclass and also override its behavior."
   ]
  },
  {
   "cell_type": "raw",
   "id": "89d6df3b",
   "metadata": {},
   "source": [
    "Question 2: What happens when a class statement's top level contains a basic assignment statement?\n",
    "\n",
    "Solution :  Any top-level statement in modu.py will be executed, including other imports if any, means: \"Things that are                     interpreted at import time\". \n",
    "            \n",
    "             the def and the class. These are both executed at import time. These definitions are compound statements .                      \n",
    "            "
   ]
  },
  {
   "cell_type": "raw",
   "id": "dbfa9bf6",
   "metadata": {},
   "source": [
    "Question 3: Why does a class need to manually call a superclass's __init__ method?\n",
    "\n",
    "Solution :  A class need to manually call a superclass's __init__ method, since Python does not automatically call this method             if it exists. \n",
    "            Often, we want to call a method on an instance (or class) if and only if that method exists. Otherwise, we do                   nothing or default to another action. For example, this often applies to the _ _init_ _ method of superclasses."
   ]
  },
  {
   "cell_type": "raw",
   "id": "c9941610",
   "metadata": {},
   "source": [
    "Question 4: How can you augment, instead of completely replacing, an inherited method?\n",
    "\n",
    "Solution :  To augment an inherited method involves forwarding. Message forwarding allows to augment an inherited method in                 such a way that it can perform its inherited action and some new action. All three method types can be forwarded               (Procedure, Procedure Set and Function).\n"
   ]
  },
  {
   "cell_type": "raw",
   "id": "c8ee9d64",
   "metadata": {},
   "source": [
    "Question 5 : How is the local scope of a class different from that of a function?\n",
    "\n",
    "Solution :  Local scope is the area between an { and it's closing }. Function scope is the area between the opening { of a                 function and its closing }, which may contain more \"local\" scopes. A label is visible in the entirety of the                   function within which it is defined, e.g.\n",
    "            \n",
    "            int f( int a ) \n",
    "            {\n",
    "               int b = 8;\n",
    "               if ( a > 14 )\n",
    "               {\n",
    "                   int c = 50;\n",
    "                   label:\n",
    "                   return c - a - b;\n",
    "                }\n",
    "                if ( a > 7 ) goto label;\n",
    "                return -99;\n",
    "            }\n",
    "            \n",
    "            here, 'int c' is not visible outside its enclosing block. label is visible outside its enclosing block, but only to             function scope."
   ]
  }
 ],
 "metadata": {
  "kernelspec": {
   "display_name": "Python 3 (ipykernel)",
   "language": "python",
   "name": "python3"
  },
  "language_info": {
   "codemirror_mode": {
    "name": "ipython",
    "version": 3
   },
   "file_extension": ".py",
   "mimetype": "text/x-python",
   "name": "python",
   "nbconvert_exporter": "python",
   "pygments_lexer": "ipython3",
   "version": "3.9.7"
  }
 },
 "nbformat": 4,
 "nbformat_minor": 5
}
